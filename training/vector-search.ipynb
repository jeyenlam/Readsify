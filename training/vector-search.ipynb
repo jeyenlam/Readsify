{
 "cells": [
  {
   "cell_type": "code",
   "execution_count": 1,
   "id": "ff9de925-7cbc-4fa7-8ea0-c163ca4d6147",
   "metadata": {},
   "outputs": [],
   "source": [
    "from langchain_community.document_loaders import TextLoader\n",
    "from langchain_text_splitters import CharacterTextSplitter\n",
    "from langchain_openai import OpenAIEmbeddings\n",
    "from langchain_chroma import Chroma"
   ]
  },
  {
   "cell_type": "code",
   "execution_count": 2,
   "id": "b67721a9-b0b0-43a0-9cad-54c46afa12a8",
   "metadata": {},
   "outputs": [],
   "source": [
    "import pandas as pd\n",
    "\n",
    "books = pd.read_csv(\"preprocessed_book_data.csv\")"
   ]
  },
  {
   "cell_type": "code",
   "execution_count": 3,
   "id": "e0b9ee3b-379c-46ee-bcf2-f4246c9d63f0",
   "metadata": {},
   "outputs": [],
   "source": [
    "from langchain.docstore.document import Document\n",
    "\n",
    "documents = [\n",
    "    Document(\n",
    "        page_content=f\"Title: {row['title']}, Description: {row['description']}\",\n",
    "        metadata={\"title\": row[\"title\"], \"categories\": row[\"categories\"]}\n",
    "    )\n",
    "    for _, row in books.iterrows()\n",
    "]"
   ]
  },
  {
   "cell_type": "code",
   "execution_count": 4,
   "id": "f27d71ae-1e80-4798-b617-35a11c390275",
   "metadata": {},
   "outputs": [
    {
     "data": {
      "text/plain": [
       "Document(metadata={'title': 'Gilead', 'categories': 'Fiction'}, page_content='Title: Gilead, Description: A NOVEL THAT READERS and critics have been eagerly anticipating for over a decade, Gilead is an astonishingly imagined story of remarkable lives. John Ames is a preacher, the son of a preacher and the grandson (both maternal and paternal) of preachers. It’s 1956 in Gilead, Iowa, towards the end of the Reverend Ames’s life, and he is absorbed in recording his family’s story, a legacy for the young son he will never see grow up. Haunted by his grandfather’s presence, John tells of the rift between his grandfather and his father: the elder, an angry visionary who fought for the abolitionist cause, and his son, an ardent pacifist. He is troubled, too, by his prodigal namesake, Jack (John Ames) Boughton, his best friend’s lost son who returns to Gilead searching for forgiveness and redemption. Told in John Ames’s joyous, rambling voice that finds beauty, humour and truth in the smallest of life’s details, Gilead is a song of celebration and acceptance of the best and the worst the world has to offer. At its heart is a tale of the sacred bonds between fathers and sons, pitch-perfect in style and story, set to dazzle critics and readers alike.')"
      ]
     },
     "execution_count": 4,
     "metadata": {},
     "output_type": "execute_result"
    }
   ],
   "source": [
    "documents[0]"
   ]
  },
  {
   "cell_type": "code",
   "execution_count": null,
   "id": "644dfb77-27db-4adb-8bd2-865edef3991e",
   "metadata": {},
   "outputs": [],
   "source": [
    "from dotenv import load_dotenv\n",
    "load_dotenv()"
   ]
  },
  {
   "cell_type": "code",
   "execution_count": 6,
   "id": "2d4b460a-422c-4881-bc5e-658aa119cbc8",
   "metadata": {},
   "outputs": [],
   "source": [
    "import os\n",
    "embedding_model = OpenAIEmbeddings(openai_api_key=os.getenv(\"OPENAI_API_KEY\"))"
   ]
  },
  {
   "cell_type": "code",
   "execution_count": 7,
   "id": "331afa8f-64c1-433f-aab5-21c59da59458",
   "metadata": {},
   "outputs": [],
   "source": [
    "db_books = Chroma.from_documents(documents, embedding_model)"
   ]
  },
  {
   "cell_type": "code",
   "execution_count": 8,
   "id": "1b85b55d-5a44-430f-8394-1e9c4d05d239",
   "metadata": {},
   "outputs": [
    {
     "name": "stdout",
     "output_type": "stream",
     "text": [
      "Title: The Books of Magic, Description: Timothy Hunter is taken on a tour of the magical realms by a quartet of fallen mystics.\n",
      "Title: A Sudden Wild Magic, Description: A breathtakingly original, funny adventure of wars, worlds and otherworlds by one of the greatest fantasy writers in Britain\n",
      "Title: Riddle-master, Description: A collection of the complete and long out-of-print Riddle-Master trilogy, a modern-day fantasy classic, offers a new introduction by the author and brings back the magical adventures of a young prince discovering his identity in a uniquely realized land. Original.\n",
      "Title: Tales of Magick, Description: \"Kick Ass! And Live to Tell About It! Some people think the Awakened sit around dreaming about Ascension. Wrong. Dead wrong. When reality itself is on the brink of destruction, you don't contemplate your navel. You fight -- and sometimes die -- for the sake of the future. Tales of Magick takes Mage from the realm of abstraction and kicks it screaming into high gear. If you ever wondered how to run an epic, exciting modern sorcery chronicle, Dark Adventure is for you. Indeed, Tales of Magick is an ongoing series of books dedicated to playing Mage in a variety of genres and settings. Now your Mage game can go anywhere, anywhen\".\n",
      "Title: Imajica II, Description: The magical tale of ill-fated lovers lost among worlds teetering on the edge of destruction, where their passion holds the key to escape. There has never been a book like Imajica. Transforming every expectation offantasy fiction with its heady mingling of radical sexuality and spiritual anarchy, it has carried its millions of readers into regions of passion and philosophy that few books have even attempted to map. It's an epic in every way; vast in conception, obsessively detailed in execution, and apocalyptic in its resolution. A book of erotic mysteries and perverse violence. A book of ancient, mythological landscapes and even more ancient magic.\n"
     ]
    }
   ],
   "source": [
    "query = \"I want a book about magic, adventure, and mystery.\"\n",
    "retrieved_books = db_books.similarity_search(query, k=5)  # Get top 5 matches\n",
    "\n",
    "for book in retrieved_books:\n",
    "    print(book.page_content)  # Display recommended books\n"
   ]
  }
 ],
 "metadata": {
  "kernelspec": {
   "display_name": "Python (venv)",
   "language": "python",
   "name": "venv"
  },
  "language_info": {
   "codemirror_mode": {
    "name": "ipython",
    "version": 3
   },
   "file_extension": ".py",
   "mimetype": "text/x-python",
   "name": "python",
   "nbconvert_exporter": "python",
   "pygments_lexer": "ipython3",
   "version": "3.12.0"
  }
 },
 "nbformat": 4,
 "nbformat_minor": 5
}
