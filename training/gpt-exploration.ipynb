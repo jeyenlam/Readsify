{
 "cells": [
  {
   "cell_type": "code",
   "execution_count": 26,
   "id": "8259edad-e516-4768-85c6-a10d3f088f95",
   "metadata": {},
   "outputs": [],
   "source": [
    "# from langchain.chains import RetrievalQA\n",
    "from langchain.chains import ConversationalRetrievalChain\n",
    "from langchain.memory import ConversationBufferMemory\n",
    "from langchain_openai import ChatOpenAI"
   ]
  },
  {
   "cell_type": "code",
   "execution_count": 27,
   "id": "5c0836a1-d903-44dc-86b8-129e37d4174c",
   "metadata": {},
   "outputs": [
    {
     "data": {
      "text/plain": [
       "True"
      ]
     },
     "execution_count": 27,
     "metadata": {},
     "output_type": "execute_result"
    }
   ],
   "source": [
    "import dotenv\n",
    "\n",
    "dotenv.load_dotenv()"
   ]
  },
  {
   "cell_type": "code",
   "execution_count": 46,
   "id": "e1901a86-d956-43c7-89a4-ce0cf51e2935",
   "metadata": {},
   "outputs": [
    {
     "data": {
      "text/plain": [
       "'Hello! I am an AI designed to assist you with any questions or tasks you may have. My main goal is to provide accurate information and helpful responses to your inquiries. How can I help you today?'"
      ]
     },
     "execution_count": 46,
     "metadata": {},
     "output_type": "execute_result"
    }
   ],
   "source": [
    "from langchain.chat_models import ChatOpenAI\n",
    "from langchain.memory import ConversationBufferMemory\n",
    "from langchain.chains import ConversationChain\n",
    "from langchain.schema import SystemMessage\n",
    "\n",
    "# Initialize LLM\n",
    "llm = ChatOpenAI(\n",
    "    model=\"gpt-3.5-turbo\",\n",
    "    temperature=0.7,\n",
    ")\n",
    "\n",
    "# Setup memory\n",
    "memory = ConversationBufferMemory()\n",
    "\n",
    "# Create chat chain\n",
    "chat = ConversationChain(llm=llm, memory=memory)\n",
    "\n",
    "# Start conversation\n",
    "response = chat.predict(input=\"Hello, who are you?\")\n",
    "response"
   ]
  },
  {
   "cell_type": "code",
   "execution_count": 48,
   "id": "ea0ebcd0-7dd7-4edc-be42-f5928c376add",
   "metadata": {},
   "outputs": [
    {
     "name": "stdout",
     "output_type": "stream",
     "text": [
      "I'm sorry to hear that you're feeling blue. I can definitely recommend some books that might uplift your mood or provide some comfort. Here are a few suggestions for slice-of-life books that might help:\n",
      "\n",
      "1. \"The Happiness Project\" by Gretchen Rubin - This book follows the author's year-long journey to increase her happiness through different activities and habits.\n",
      "\n",
      "2. \"The Rosie Project\" by Graeme Simsion - This humorous novel follows a socially awkward genetics professor as he navigates relationships and love.\n",
      "\n",
      "3. \"The Guernsey Literary and Potato Peel Pie Society\" by Mary Ann Shaffer and Annie Barrows - This charming novel tells the story of a writer who connects with the residents of Guernsey Island in the aftermath of World War II.\n",
      "\n",
      "I hope these recommendations bring some comfort and joy to your day. Let me know if you'd like more suggestions or if there's anything else I can help you with.\n"
     ]
    }
   ],
   "source": [
    "user_input = \"I'm feeling blue, can you recommend books that will uplift my mood, books about a slice of life are even great?\"\n",
    "response = chat.predict(input=user_input)\n",
    "print(response)"
   ]
  },
  {
   "cell_type": "code",
   "execution_count": 49,
   "id": "d05a2abc-9558-4550-a7e9-79a3b8978998",
   "metadata": {},
   "outputs": [
    {
     "name": "stdout",
     "output_type": "stream",
     "text": [
      "\"The Happiness Project\" by Gretchen Rubin is a memoir that chronicles the author's year-long experiment to increase her happiness and overall well-being. The book follows Rubin as she sets out to improve different areas of her life, such as relationships, work, and self-care, by implementing specific resolutions and goals each month. Throughout the book, Rubin shares her insights, successes, and challenges, offering practical advice and tips for readers looking to boost their own happiness levels. The book is a blend of personal anecdotes, research-based information, and actionable strategies, making it an engaging and inspiring read for anyone looking to make positive changes in their life.\n"
     ]
    }
   ],
   "source": [
    "user_input = \"Tell me more about the first book\"\n",
    "response = chat.predict(input=user_input)\n",
    "print(response)"
   ]
  }
 ],
 "metadata": {
  "kernelspec": {
   "display_name": "Python (venv)",
   "language": "python",
   "name": "venv"
  },
  "language_info": {
   "codemirror_mode": {
    "name": "ipython",
    "version": 3
   },
   "file_extension": ".py",
   "mimetype": "text/x-python",
   "name": "python",
   "nbconvert_exporter": "python",
   "pygments_lexer": "ipython3",
   "version": "3.12.0"
  }
 },
 "nbformat": 4,
 "nbformat_minor": 5
}
