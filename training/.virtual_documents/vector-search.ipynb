from langchain

# Initialize OpenAI Embeddings (Replace with your OpenAI API key)
# embedding_model = OpenAIEmbeddings(openai_api_key="your-api-key")




